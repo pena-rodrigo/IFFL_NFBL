{
 "cells": [
  {
   "cell_type": "code",
   "execution_count": 1,
   "metadata": {
    "colab": {
     "base_uri": "https://localhost:8080/"
    },
    "id": "s9gwfpC2w5iJ",
    "outputId": "16517250-3a5e-46f5-ffbe-260cf7756284"
   },
   "outputs": [],
   "source": [
    "\"\"\"\n",
    "Created on May 12 2023\n",
    "\n",
    "@author: rodrigo pena\n",
    "\"\"\"\n",
    "\n",
    "import torch\n",
    "import torch.nn as nn\n",
    "import numpy as np\n",
    "import matplotlib.pyplot as plt\n",
    "import pylab\n",
    "pylab.rcParams['savefig.dpi'] = 120\n",
    "from sklearn.metrics import classification_report\n",
    "from sklearn.metrics import matthews_corrcoef\n",
    "\n",
    "torch.manual_seed(0)\n",
    "\n",
    "import seaborn as sn\n",
    "import pandas as pd\n",
    "from sklearn.metrics import confusion_matrix\n",
    "\n",
    "device = torch.device(\"cpu\")\n",
    "# device = torch.device(\"cuda:0\") # Uncomment this to run on GPU\n"
   ]
  },
  {
   "cell_type": "code",
   "execution_count": 2,
   "metadata": {},
   "outputs": [],
   "source": [
    "class Net_relu(nn.Module):\n",
    "    def __init__(self,D_in,H,D_out):\n",
    "        super(Net_relu,self).__init__()\n",
    "        self.linear1 = nn.Linear(D_in,H)\n",
    "        self.linear2 = nn.Linear(H,D_out)\n",
    "        \n",
    "    def forward(self,x):\n",
    "        x = torch.relu(self.linear1(x))\n",
    "        x = self.linear2(x)\n",
    "        return x"
   ]
  },
  {
   "cell_type": "code",
   "execution_count": 3,
   "metadata": {},
   "outputs": [],
   "source": [
    "acum=[]\n",
    "for dd in range(40):\n",
    "\n",
    "    filename = \"nl_signal\" + str(dd) + \".dat\"\n",
    "    data_cxy = np.loadtxt(filename).astype(np.float32)\n",
    "    filename = \"nl_lbs\" + str(dd) + \".dat\"\n",
    "    label_cxy = np.loadtxt(filename).astype(np.float32)\n",
    "    data_cxy = torch.from_numpy(data_cxy)\n",
    "    label_cxy = torch.from_numpy(label_cxy)\n",
    "\n",
    "    input_dim = len(data_cxy[0])\n",
    "    output_dim = 2\n",
    "    learning_rate=0.01\n",
    "    # compare lr with real spk trains\n",
    "    H=10\n",
    "    epochs=2000\n",
    "\n",
    "    model = Net_relu(input_dim,H,output_dim)\n",
    "    optimizer = torch.optim.SGD(model.parameters(),lr = learning_rate, momentum=0.2)\n",
    "    criterion = nn.CrossEntropyLoss()\n",
    "\n",
    "    my_data_train = []\n",
    "    my_data_val = []\n",
    "    for i in range(len(data_cxy)):\n",
    "        if i < len(data_cxy)*0.75:\n",
    "            my_data_train.append([data_cxy[i], label_cxy[i].type(torch.LongTensor)])\n",
    "        else:    \n",
    "            my_data_val.append([data_cxy[i], label_cxy[i].type(torch.LongTensor)])\n",
    "\n",
    "    train_set = torch.utils.data.DataLoader(dataset=my_data_train,shuffle=True,batch_size=250)\n",
    "    val_set = torch.utils.data.DataLoader(dataset=my_data_val,shuffle=True,batch_size=250)\n",
    "\n",
    "    loss_list = []\n",
    "    accuracy_list = []\n",
    "    N_test = len(my_data_val)\n",
    "\n",
    "    def train_model(n_epochs):\n",
    "        for epoch in range(n_epochs):\n",
    "            for x,y in train_set:\n",
    "                optimizer.zero_grad()\n",
    "                z = model(x)\n",
    "                loss = criterion(z,y)\n",
    "                loss.backward()\n",
    "                optimizer.step()\n",
    "\n",
    "            correct = 0\n",
    "            for x_test, y_test in val_set:\n",
    "                z = model(x_test)\n",
    "                _, yhat = torch.max(z.data,1)\n",
    "                correct += (yhat == y_test).sum().item()\n",
    "            accuracy = correct / N_test\n",
    "            loss_list.append(loss.data)\n",
    "            accuracy_list.append(accuracy)\n",
    "    train_model(epochs)\n",
    "\n",
    "    acum.append(accuracy_list[-1])"
   ]
  },
  {
   "cell_type": "code",
   "execution_count": 4,
   "metadata": {},
   "outputs": [
    {
     "data": {
      "text/plain": [
       "[<matplotlib.lines.Line2D at 0x7f39c6bc5b20>]"
      ]
     },
     "execution_count": 4,
     "metadata": {},
     "output_type": "execute_result"
    },
    {
     "data": {
      "image/png": "[encoded data removed]",
      "text/plain": [
       "<Figure size 432x288 with 1 Axes>"
      ]
     },
     "metadata": {
      "needs_background": "light"
     },
     "output_type": "display_data"
    }
   ],
   "source": [
    "plt.plot(acum,'o-')"
   ]
  },
  {
   "cell_type": "code",
   "execution_count": 5,
   "metadata": {},
   "outputs": [
    {
     "data": {
      "text/plain": [
       "[1.0,\n",
       " 0.923,\n",
       " 0.865,\n",
       " 0.853,\n",
       " 0.838,\n",
       " 0.794,\n",
       " 0.794,\n",
       " 0.796,\n",
       " 0.778,\n",
       " 0.773,\n",
       " 0.77,\n",
       " 0.716,\n",
       " 0.739,\n",
       " 0.746,\n",
       " 0.653,\n",
       " 0.767,\n",
       " 0.719,\n",
       " 0.716,\n",
       " 0.68,\n",
       " 0.723,\n",
       " 0.707,\n",
       " 0.714,\n",
       " 0.689,\n",
       " 0.693,\n",
       " 0.678,\n",
       " 0.705,\n",
       " 0.708,\n",
       " 0.679,\n",
       " 0.685,\n",
       " 0.628,\n",
       " 0.651,\n",
       " 0.686,\n",
       " 0.682,\n",
       " 0.687,\n",
       " 0.686,\n",
       " 0.649,\n",
       " 0.645,\n",
       " 0.677,\n",
       " 0.657,\n",
       " 0.651]"
      ]
     },
     "execution_count": 5,
     "metadata": {},
     "output_type": "execute_result"
    }
   ],
   "source": [
    "acum"
   ]
  },
  {
   "cell_type": "code",
   "execution_count": 6,
   "metadata": {},
   "outputs": [],
   "source": [
    "acum=[]\n",
    "for dd in range(40):\n",
    "\n",
    "    filename = \"nfbl_vs_nfbl_signal\" + str(dd) + \".dat\"\n",
    "    data_cxy = np.loadtxt(filename).astype(np.float32)\n",
    "    filename = \"nfbl_vs_nfbl_lbs\" + str(dd) + \".dat\"\n",
    "    label_cxy = np.loadtxt(filename).astype(np.float32)\n",
    "    data_cxy = torch.from_numpy(data_cxy)\n",
    "    label_cxy = torch.from_numpy(label_cxy)\n",
    "\n",
    "    input_dim = len(data_cxy[0])\n",
    "    output_dim = 2\n",
    "    learning_rate=0.01\n",
    "    # compare lr with real spk trains\n",
    "    H=10\n",
    "    epochs=2000\n",
    "\n",
    "    model = Net_relu(input_dim,H,output_dim)\n",
    "    optimizer = torch.optim.SGD(model.parameters(),lr = learning_rate, momentum=0.2)\n",
    "    criterion = nn.CrossEntropyLoss()\n",
    "\n",
    "    my_data_train = []\n",
    "    my_data_val = []\n",
    "    for i in range(len(data_cxy)):\n",
    "        if i < len(data_cxy)*0.75:\n",
    "            my_data_train.append([data_cxy[i], label_cxy[i].type(torch.LongTensor)])\n",
    "        else:    \n",
    "            my_data_val.append([data_cxy[i], label_cxy[i].type(torch.LongTensor)])\n",
    "\n",
    "    train_set = torch.utils.data.DataLoader(dataset=my_data_train,shuffle=True,batch_size=250)\n",
    "    val_set = torch.utils.data.DataLoader(dataset=my_data_val,shuffle=True,batch_size=250)\n",
    "\n",
    "    loss_list = []\n",
    "    accuracy_list = []\n",
    "    N_test = len(my_data_val)\n",
    "\n",
    "    def train_model(n_epochs):\n",
    "        for epoch in range(n_epochs):\n",
    "            for x,y in train_set:\n",
    "                optimizer.zero_grad()\n",
    "                z = model(x)\n",
    "                loss = criterion(z,y)\n",
    "                loss.backward()\n",
    "                optimizer.step()\n",
    "\n",
    "            correct = 0\n",
    "            for x_test, y_test in val_set:\n",
    "                z = model(x_test)\n",
    "                _, yhat = torch.max(z.data,1)\n",
    "                correct += (yhat == y_test).sum().item()\n",
    "            accuracy = correct / N_test\n",
    "            loss_list.append(loss.data)\n",
    "            accuracy_list.append(accuracy)\n",
    "    train_model(epochs)\n",
    "\n",
    "    acum.append(accuracy_list[-1])"
   ]
  },
  {
   "cell_type": "code",
   "execution_count": 7,
   "metadata": {},
   "outputs": [
    {
     "data": {
      "text/plain": [
       "(0.4, 0.6)"
      ]
     },
     "execution_count": 7,
     "metadata": {},
     "output_type": "execute_result"
    },
    {
     "data": {
      "image/png": "[encoded data removed]",
      "text/plain": [
       "<Figure size 432x288 with 1 Axes>"
      ]
     },
     "metadata": {
      "needs_background": "light"
     },
     "output_type": "display_data"
    }
   ],
   "source": [
    "plt.plot(acum,'o-')\n",
    "plt.ylim([0.4,0.6])"
   ]
  },
  {
   "cell_type": "code",
   "execution_count": 8,
   "metadata": {},
   "outputs": [
    {
     "data": {
      "text/plain": [
       "[0.5,\n",
       " 0.489,\n",
       " 0.481,\n",
       " 0.491,\n",
       " 0.522,\n",
       " 0.465,\n",
       " 0.489,\n",
       " 0.49,\n",
       " 0.491,\n",
       " 0.477,\n",
       " 0.519,\n",
       " 0.503,\n",
       " 0.523,\n",
       " 0.533,\n",
       " 0.486,\n",
       " 0.487,\n",
       " 0.508,\n",
       " 0.502,\n",
       " 0.484,\n",
       " 0.534,\n",
       " 0.504,\n",
       " 0.5,\n",
       " 0.49,\n",
       " 0.51,\n",
       " 0.469,\n",
       " 0.498,\n",
       " 0.489,\n",
       " 0.514,\n",
       " 0.488,\n",
       " 0.522,\n",
       " 0.483,\n",
       " 0.504,\n",
       " 0.514,\n",
       " 0.478,\n",
       " 0.466,\n",
       " 0.478,\n",
       " 0.493,\n",
       " 0.493,\n",
       " 0.514,\n",
       " 0.494]"
      ]
     },
     "execution_count": 8,
     "metadata": {},
     "output_type": "execute_result"
    }
   ],
   "source": [
    "acum"
   ]
  },
  {
   "cell_type": "code",
   "execution_count": 9,
   "metadata": {},
   "outputs": [],
   "source": [
    "acum=[]\n",
    "for dd in range(40):\n",
    "\n",
    "    filename = \"iffl_vs_iffl_signal\" + str(dd) + \".dat\"\n",
    "    data_cxy = np.loadtxt(filename).astype(np.float32)\n",
    "    filename = \"iffl_vs_iffl_lbs\" + str(dd) + \".dat\"\n",
    "    label_cxy = np.loadtxt(filename).astype(np.float32)\n",
    "    data_cxy = torch.from_numpy(data_cxy)\n",
    "    label_cxy = torch.from_numpy(label_cxy)\n",
    "\n",
    "    input_dim = len(data_cxy[0])\n",
    "    output_dim = 2\n",
    "    learning_rate=0.01\n",
    "    # compare lr with real spk trains\n",
    "    H=10\n",
    "    epochs=2000\n",
    "\n",
    "    model = Net_relu(input_dim,H,output_dim)\n",
    "    optimizer = torch.optim.SGD(model.parameters(),lr = learning_rate, momentum=0.2)\n",
    "    criterion = nn.CrossEntropyLoss()\n",
    "\n",
    "    my_data_train = []\n",
    "    my_data_val = []\n",
    "    for i in range(len(data_cxy)):\n",
    "        if i < len(data_cxy)*0.75:\n",
    "            my_data_train.append([data_cxy[i], label_cxy[i].type(torch.LongTensor)])\n",
    "        else:    \n",
    "            my_data_val.append([data_cxy[i], label_cxy[i].type(torch.LongTensor)])\n",
    "\n",
    "    train_set = torch.utils.data.DataLoader(dataset=my_data_train,shuffle=True,batch_size=250)\n",
    "    val_set = torch.utils.data.DataLoader(dataset=my_data_val,shuffle=True,batch_size=250)\n",
    "\n",
    "    loss_list = []\n",
    "    accuracy_list = []\n",
    "    N_test = len(my_data_val)\n",
    "\n",
    "    def train_model(n_epochs):\n",
    "        for epoch in range(n_epochs):\n",
    "            for x,y in train_set:\n",
    "                optimizer.zero_grad()\n",
    "                z = model(x)\n",
    "                loss = criterion(z,y)\n",
    "                loss.backward()\n",
    "                optimizer.step()\n",
    "\n",
    "            correct = 0\n",
    "            for x_test, y_test in val_set:\n",
    "                z = model(x_test)\n",
    "                _, yhat = torch.max(z.data,1)\n",
    "                correct += (yhat == y_test).sum().item()\n",
    "            accuracy = correct / N_test\n",
    "            loss_list.append(loss.data)\n",
    "            accuracy_list.append(accuracy)\n",
    "    train_model(epochs)\n",
    "\n",
    "    acum.append(accuracy_list[-1])"
   ]
  },
  {
   "cell_type": "code",
   "execution_count": 10,
   "metadata": {},
   "outputs": [
    {
     "data": {
      "text/plain": [
       "(0.4, 0.6)"
      ]
     },
     "execution_count": 10,
     "metadata": {},
     "output_type": "execute_result"
    },
    {
     "data": {
      "image/png": "[encoded data removed]",
      "text/plain": [
       "<Figure size 432x288 with 1 Axes>"
      ]
     },
     "metadata": {
      "needs_background": "light"
     },
     "output_type": "display_data"
    }
   ],
   "source": [
    "plt.plot(acum,'o-')\n",
    "plt.ylim([0.4,0.6])"
   ]
  },
  {
   "cell_type": "code",
   "execution_count": 11,
   "metadata": {},
   "outputs": [
    {
     "data": {
      "text/plain": [
       "[0.5,\n",
       " 0.504,\n",
       " 0.506,\n",
       " 0.501,\n",
       " 0.481,\n",
       " 0.494,\n",
       " 0.497,\n",
       " 0.519,\n",
       " 0.501,\n",
       " 0.487,\n",
       " 0.466,\n",
       " 0.495,\n",
       " 0.508,\n",
       " 0.478,\n",
       " 0.501,\n",
       " 0.528,\n",
       " 0.491,\n",
       " 0.5,\n",
       " 0.52,\n",
       " 0.498,\n",
       " 0.517,\n",
       " 0.498,\n",
       " 0.51,\n",
       " 0.506,\n",
       " 0.489,\n",
       " 0.495,\n",
       " 0.491,\n",
       " 0.509,\n",
       " 0.5,\n",
       " 0.491,\n",
       " 0.481,\n",
       " 0.497,\n",
       " 0.486,\n",
       " 0.512,\n",
       " 0.475,\n",
       " 0.54,\n",
       " 0.494,\n",
       " 0.499,\n",
       " 0.504,\n",
       " 0.497]"
      ]
     },
     "execution_count": 11,
     "metadata": {},
     "output_type": "execute_result"
    }
   ],
   "source": [
    "acum"
   ]
  },
  {
   "cell_type": "code",
   "execution_count": null,
   "metadata": {},
   "outputs": [],
   "source": []
  }
 ],
 "metadata": {
  "colab": {
   "provenance": []
  },
  "kernelspec": {
   "display_name": "Python 3 (ipykernel)",
   "language": "python",
   "name": "python3"
  },
  "language_info": {
   "codemirror_mode": {
    "name": "ipython",
    "version": 3
   },
   "file_extension": ".py",
   "mimetype": "text/x-python",
   "name": "python",
   "nbconvert_exporter": "python",
   "pygments_lexer": "ipython3",
   "version": "3.9.12"
  }
 },
 "nbformat": 4,
 "nbformat_minor": 1
}
