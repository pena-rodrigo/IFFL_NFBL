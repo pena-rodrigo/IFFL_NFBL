{
 "cells": [
  {
   "cell_type": "code",
   "execution_count": 1,
   "metadata": {
    "colab": {
     "base_uri": "https://localhost:8080/"
    },
    "id": "s9gwfpC2w5iJ",
    "outputId": "16517250-3a5e-46f5-ffbe-260cf7756284"
   },
   "outputs": [],
   "source": [
    "\"\"\"\n",
    "Created on Apr 17 2023\n",
    "\n",
    "@author: rodrigo pena\n",
    "\"\"\"\n",
    "\n",
    "import torch\n",
    "import torch.nn as nn\n",
    "import numpy as np\n",
    "import matplotlib.pyplot as plt\n",
    "import pylab\n",
    "pylab.rcParams['savefig.dpi'] = 120\n",
    "from sklearn.metrics import classification_report\n",
    "from sklearn.metrics import matthews_corrcoef\n",
    "\n",
    "torch.manual_seed(0)\n",
    "\n",
    "import seaborn as sn\n",
    "import pandas as pd\n",
    "from sklearn.metrics import confusion_matrix\n",
    "\n",
    "device = torch.device(\"cpu\")\n",
    "# device = torch.device(\"cuda:0\") # Uncomment this to run on GPU\n"
   ]
  },
  {
   "cell_type": "code",
   "execution_count": 2,
   "metadata": {},
   "outputs": [],
   "source": [
    "class Net(nn.Module):\n",
    "    def __init__(self,D_in,H,D_out):\n",
    "        super(Net,self).__init__()\n",
    "        self.linear1 = nn.Linear(D_in,H)\n",
    "        self.linear2 = nn.Linear(H,D_out)\n",
    "        \n",
    "    def forward(self,x):\n",
    "        x = torch.tanh(self.linear1(x))\n",
    "        x = self.linear2(x)\n",
    "        return x\n",
    "\n",
    "class Net_relu(nn.Module):\n",
    "    def __init__(self,D_in,H,D_out):\n",
    "        super(Net_relu,self).__init__()\n",
    "        self.linear1 = nn.Linear(D_in,H)\n",
    "        self.linear2 = nn.Linear(H,D_out)\n",
    "        \n",
    "    def forward(self,x):\n",
    "        x = torch.relu(self.linear1(x))\n",
    "        x = self.linear2(x)\n",
    "        return x\n",
    "    \n",
    "class Net_sigmoid(nn.Module):\n",
    "    def __init__(self,D_in,H,D_out):\n",
    "        super(Net_sigmoid,self).__init__()\n",
    "        self.linear1 = nn.Linear(D_in,H)\n",
    "        self.linear2 = nn.Linear(H,D_out)\n",
    "        \n",
    "    def forward(self,x):\n",
    "        x = torch.sigmoid(self.linear1(x))\n",
    "        x = self.linear2(x)\n",
    "        return x    "
   ]
  },
  {
   "cell_type": "code",
   "execution_count": 16,
   "metadata": {},
   "outputs": [],
   "source": [
    "acc = []\n",
    "for m in range(100,2000,100):\n",
    "\n",
    "    data_cxy = np.loadtxt(\"nl_signal_y\" + str(m) + \".dat\").astype(np.float32)\n",
    "    label_cxy = np.loadtxt(\"nl_lbs_y\" + str(m) + \".dat\").astype(np.float32)\n",
    "    data_cxy = torch.from_numpy(data_cxy)\n",
    "    label_cxy = torch.from_numpy(label_cxy)\n",
    "\n",
    "    input_dim = len(data_cxy[0])\n",
    "    output_dim = 2\n",
    "    learning_rate=0.001\n",
    "    H=10\n",
    "\n",
    "    model = Net_relu(input_dim,H,output_dim)\n",
    "    optimizer = torch.optim.SGD(model.parameters(),lr = learning_rate, momentum=0.2)\n",
    "    criterion = nn.CrossEntropyLoss()\n",
    "\n",
    "    my_data_train = []\n",
    "    my_data_val = []\n",
    "    for i in range(len(data_cxy)):\n",
    "        if i < len(data_cxy)*0.75:\n",
    "            my_data_train.append([data_cxy[i], label_cxy[i].type(torch.LongTensor)])\n",
    "        else:    \n",
    "            my_data_val.append([data_cxy[i], label_cxy[i].type(torch.LongTensor)])\n",
    "\n",
    "    train_set = torch.utils.data.DataLoader(dataset=my_data_train,shuffle=True,batch_size=250)\n",
    "    val_set = torch.utils.data.DataLoader(dataset=my_data_val,shuffle=True,batch_size=250)\n",
    "\n",
    "    loss_list = []\n",
    "    accuracy_list = []\n",
    "    N_test = len(my_data_val)\n",
    "    epochs = 2000\n",
    "\n",
    "    def train_model(n_epochs):\n",
    "        for epoch in range(n_epochs):\n",
    "            for x,y in train_set:\n",
    "                optimizer.zero_grad()\n",
    "                z = model(x)\n",
    "                loss = criterion(z,y)\n",
    "                loss.backward()\n",
    "                optimizer.step()\n",
    "            correct = 0\n",
    "            for x_test, y_test in val_set:\n",
    "                z = model(x_test)\n",
    "                _, yhat = torch.max(z.data,1)\n",
    "                correct += (yhat == y_test).sum().item()\n",
    "            accuracy = correct / N_test\n",
    "            loss_list.append(loss.data)\n",
    "            accuracy_list.append(accuracy)\n",
    "    train_model(epochs)\n",
    "\n",
    "    acc.append(accuracy_list[-1])"
   ]
  },
  {
   "cell_type": "code",
   "execution_count": 17,
   "metadata": {},
   "outputs": [
    {
     "data": {
      "text/plain": [
       "[<matplotlib.lines.Line2D at 0x7f4c260601f0>]"
      ]
     },
     "execution_count": 17,
     "metadata": {},
     "output_type": "execute_result"
    },
    {
     "data": {
      "image/png": "[encoded data removed]",
      "text/plain": [
       "<Figure size 432x288 with 1 Axes>"
      ]
     },
     "metadata": {
      "needs_background": "light"
     },
     "output_type": "display_data"
    }
   ],
   "source": [
    "plt.plot(acc,'o')"
   ]
  },
  {
   "cell_type": "code",
   "execution_count": 18,
   "metadata": {},
   "outputs": [
    {
     "data": {
      "text/plain": [
       "[0.713,\n",
       " 0.691,\n",
       " 0.71,\n",
       " 0.706,\n",
       " 0.728,\n",
       " 0.733,\n",
       " 0.733,\n",
       " 0.716,\n",
       " 0.713,\n",
       " 0.723,\n",
       " 0.727,\n",
       " 0.706,\n",
       " 0.707,\n",
       " 0.713,\n",
       " 0.719,\n",
       " 0.721,\n",
       " 0.708,\n",
       " 0.743,\n",
       " 0.732]"
      ]
     },
     "execution_count": 18,
     "metadata": {},
     "output_type": "execute_result"
    }
   ],
   "source": [
    "acc"
   ]
  },
  {
   "cell_type": "code",
   "execution_count": null,
   "metadata": {},
   "outputs": [],
   "source": []
  },
  {
   "cell_type": "code",
   "execution_count": 13,
   "metadata": {},
   "outputs": [],
   "source": [
    "acc = []\n",
    "for m in range(100,2000,100):\n",
    "\n",
    "    data_cxy = np.loadtxt(\"nfbl_vs_nfbl_signal_y\" + str(m) + \".dat\").astype(np.float32)\n",
    "    label_cxy = np.loadtxt(\"nfbl_vs_nfbl_lbs_y\" + str(m) + \".dat\").astype(np.float32)\n",
    "    data_cxy = torch.from_numpy(data_cxy)\n",
    "    label_cxy = torch.from_numpy(label_cxy)\n",
    "\n",
    "    input_dim = len(data_cxy[0])\n",
    "    output_dim = 2\n",
    "    learning_rate=0.001\n",
    "    H=10\n",
    "\n",
    "    model = Net_relu(input_dim,H,output_dim)\n",
    "    optimizer = torch.optim.SGD(model.parameters(),lr = learning_rate, momentum=0.2)\n",
    "    criterion = nn.CrossEntropyLoss()\n",
    "\n",
    "    my_data_train = []\n",
    "    my_data_val = []\n",
    "    for i in range(len(data_cxy)):\n",
    "        if i < len(data_cxy)*0.75:\n",
    "            my_data_train.append([data_cxy[i], label_cxy[i].type(torch.LongTensor)])\n",
    "        else:    \n",
    "            my_data_val.append([data_cxy[i], label_cxy[i].type(torch.LongTensor)])\n",
    "\n",
    "    train_set = torch.utils.data.DataLoader(dataset=my_data_train,shuffle=True,batch_size=250)\n",
    "    val_set = torch.utils.data.DataLoader(dataset=my_data_val,shuffle=True,batch_size=250)\n",
    "\n",
    "    loss_list = []\n",
    "    accuracy_list = []\n",
    "    N_test = len(my_data_val)\n",
    "    epochs = 2000\n",
    "\n",
    "    def train_model(n_epochs):\n",
    "        for epoch in range(n_epochs):\n",
    "            for x,y in train_set:\n",
    "                optimizer.zero_grad()\n",
    "                z = model(x)\n",
    "                loss = criterion(z,y)\n",
    "                loss.backward()\n",
    "                optimizer.step()\n",
    "            correct = 0\n",
    "            for x_test, y_test in val_set:\n",
    "                z = model(x_test)\n",
    "                _, yhat = torch.max(z.data,1)\n",
    "                correct += (yhat == y_test).sum().item()\n",
    "            accuracy = correct / N_test\n",
    "            loss_list.append(loss.data)\n",
    "            accuracy_list.append(accuracy)\n",
    "    train_model(epochs)\n",
    "\n",
    "    acc.append(accuracy_list[-1])"
   ]
  },
  {
   "cell_type": "code",
   "execution_count": 14,
   "metadata": {},
   "outputs": [
    {
     "data": {
      "text/plain": [
       "[<matplotlib.lines.Line2D at 0x7f4c224aac10>]"
      ]
     },
     "execution_count": 14,
     "metadata": {},
     "output_type": "execute_result"
    },
    {
     "data": {
      "image/png": "[encoded data removed]",
      "text/plain": [
       "<Figure size 432x288 with 1 Axes>"
      ]
     },
     "metadata": {
      "needs_background": "light"
     },
     "output_type": "display_data"
    }
   ],
   "source": [
    "plt.plot(acc,'o')"
   ]
  },
  {
   "cell_type": "code",
   "execution_count": 15,
   "metadata": {},
   "outputs": [
    {
     "data": {
      "text/plain": [
       "[0.55,\n",
       " 0.669,\n",
       " 0.929,\n",
       " 0.941,\n",
       " 0.98,\n",
       " 0.973,\n",
       " 0.991,\n",
       " 0.981,\n",
       " 0.983,\n",
       " 0.986,\n",
       " 0.991,\n",
       " 0.987,\n",
       " 0.989,\n",
       " 0.991,\n",
       " 0.992,\n",
       " 0.993,\n",
       " 0.992,\n",
       " 0.99,\n",
       " 0.992]"
      ]
     },
     "execution_count": 15,
     "metadata": {},
     "output_type": "execute_result"
    }
   ],
   "source": [
    "acc"
   ]
  },
  {
   "cell_type": "code",
   "execution_count": null,
   "metadata": {},
   "outputs": [],
   "source": []
  },
  {
   "cell_type": "code",
   "execution_count": null,
   "metadata": {},
   "outputs": [],
   "source": [
    "acc = []\n",
    "for m in range(100,2000,100):\n",
    "\n",
    "    data_cxy = np.loadtxt(\"iffl_vs_iffl_signal_y\" + str(m) + \".dat\").astype(np.float32)\n",
    "    label_cxy = np.loadtxt(\"iffl_vs_iffl_lbs_y\" + str(m) + \".dat\").astype(np.float32)\n",
    "    data_cxy = torch.from_numpy(data_cxy)\n",
    "    label_cxy = torch.from_numpy(label_cxy)\n",
    "\n",
    "    input_dim = len(data_cxy[0])\n",
    "    output_dim = 2\n",
    "    learning_rate=0.0005\n",
    "    H=10\n",
    "\n",
    "    model = Net_relu(input_dim,H,output_dim)\n",
    "    optimizer = torch.optim.SGD(model.parameters(),lr = learning_rate, momentum=0.2)\n",
    "    criterion = nn.CrossEntropyLoss()\n",
    "\n",
    "    my_data_train = []\n",
    "    my_data_val = []\n",
    "    for i in range(len(data_cxy)):\n",
    "        if i < len(data_cxy)*0.75:\n",
    "            my_data_train.append([data_cxy[i], label_cxy[i].type(torch.LongTensor)])\n",
    "        else:    \n",
    "            my_data_val.append([data_cxy[i], label_cxy[i].type(torch.LongTensor)])\n",
    "\n",
    "    train_set = torch.utils.data.DataLoader(dataset=my_data_train,shuffle=True,batch_size=250)\n",
    "    val_set = torch.utils.data.DataLoader(dataset=my_data_val,shuffle=True,batch_size=250)\n",
    "\n",
    "    loss_list = []\n",
    "    accuracy_list = []\n",
    "    N_test = len(my_data_val)\n",
    "    epochs = 1000\n",
    "\n",
    "    def train_model(n_epochs):\n",
    "        for epoch in range(n_epochs):\n",
    "            for x,y in train_set:\n",
    "                optimizer.zero_grad()\n",
    "                z = model(x)\n",
    "                loss = criterion(z,y)\n",
    "                loss.backward()\n",
    "                optimizer.step()\n",
    "            correct = 0\n",
    "            for x_test, y_test in val_set:\n",
    "                z = model(x_test)\n",
    "                _, yhat = torch.max(z.data,1)\n",
    "                correct += (yhat == y_test).sum().item()\n",
    "            accuracy = correct / N_test\n",
    "            loss_list.append(loss.data)\n",
    "            accuracy_list.append(accuracy)\n",
    "    train_model(epochs)\n",
    "\n",
    "    acc.append(accuracy_list[-1])"
   ]
  },
  {
   "cell_type": "code",
   "execution_count": null,
   "metadata": {},
   "outputs": [],
   "source": [
    "plt.plot(acc,'o')"
   ]
  },
  {
   "cell_type": "code",
   "execution_count": 5,
   "metadata": {},
   "outputs": [
    {
     "data": {
      "text/plain": [
       "[0.546,\n",
       " 0.502,\n",
       " 0.73,\n",
       " 0.555,\n",
       " 0.5,\n",
       " 0.5,\n",
       " 0.635,\n",
       " 0.963,\n",
       " 0.935,\n",
       " 0.995,\n",
       " 0.607,\n",
       " 0.761,\n",
       " 0.5,\n",
       " 0.74,\n",
       " 0.971,\n",
       " 0.793,\n",
       " 1.0,\n",
       " 0.996,\n",
       " 0.996]"
      ]
     },
     "execution_count": 5,
     "metadata": {},
     "output_type": "execute_result"
    }
   ],
   "source": [
    "acc"
   ]
  },
  {
   "cell_type": "code",
   "execution_count": null,
   "metadata": {},
   "outputs": [],
   "source": []
  }
 ],
 "metadata": {
  "colab": {
   "provenance": []
  },
  "kernelspec": {
   "display_name": "Python 3 (ipykernel)",
   "language": "python",
   "name": "python3"
  },
  "language_info": {
   "codemirror_mode": {
    "name": "ipython",
    "version": 3
   },
   "file_extension": ".py",
   "mimetype": "text/x-python",
   "name": "python",
   "nbconvert_exporter": "python",
   "pygments_lexer": "ipython3",
   "version": "3.9.12"
  }
 },
 "nbformat": 4,
 "nbformat_minor": 1
}
