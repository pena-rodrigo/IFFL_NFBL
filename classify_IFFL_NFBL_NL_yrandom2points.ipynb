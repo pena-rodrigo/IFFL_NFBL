{
 "cells": [
  {
   "cell_type": "code",
   "execution_count": 1,
   "metadata": {
    "colab": {
     "base_uri": "https://localhost:8080/"
    },
    "id": "s9gwfpC2w5iJ",
    "outputId": "16517250-3a5e-46f5-ffbe-260cf7756284"
   },
   "outputs": [],
   "source": [
    "\"\"\"\n",
    "Created on Apr 17 2023\n",
    "\n",
    "@author: rodrigo pena\n",
    "\"\"\"\n",
    "\n",
    "import torch\n",
    "import torch.nn as nn\n",
    "import numpy as np\n",
    "import matplotlib.pyplot as plt\n",
    "import pylab\n",
    "pylab.rcParams['savefig.dpi'] = 120\n",
    "from sklearn.metrics import classification_report\n",
    "from sklearn.metrics import matthews_corrcoef\n",
    "\n",
    "torch.manual_seed(0)\n",
    "\n",
    "import seaborn as sn\n",
    "import pandas as pd\n",
    "from sklearn.metrics import confusion_matrix\n",
    "\n",
    "device = torch.device(\"cpu\")\n",
    "# device = torch.device(\"cuda:0\") # Uncomment this to run on GPU\n"
   ]
  },
  {
   "cell_type": "code",
   "execution_count": 2,
   "metadata": {},
   "outputs": [],
   "source": [
    "class Net(nn.Module):\n",
    "    def __init__(self,D_in,H,D_out):\n",
    "        super(Net,self).__init__()\n",
    "        self.linear1 = nn.Linear(D_in,H)\n",
    "        self.linear2 = nn.Linear(H,D_out)\n",
    "        \n",
    "    def forward(self,x):\n",
    "        x = torch.tanh(self.linear1(x))\n",
    "        x = self.linear2(x)\n",
    "        return x\n",
    "\n",
    "class Net_relu(nn.Module):\n",
    "    def __init__(self,D_in,H,D_out):\n",
    "        super(Net_relu,self).__init__()\n",
    "        self.linear1 = nn.Linear(D_in,H)\n",
    "        self.linear2 = nn.Linear(H,D_out)\n",
    "        \n",
    "    def forward(self,x):\n",
    "        x = torch.relu(self.linear1(x))\n",
    "        x = self.linear2(x)\n",
    "        return x\n",
    "    \n",
    "class Net_sigmoid(nn.Module):\n",
    "    def __init__(self,D_in,H,D_out):\n",
    "        super(Net_sigmoid,self).__init__()\n",
    "        self.linear1 = nn.Linear(D_in,H)\n",
    "        self.linear2 = nn.Linear(H,D_out)\n",
    "        \n",
    "    def forward(self,x):\n",
    "        x = torch.sigmoid(self.linear1(x))\n",
    "        x = self.linear2(x)\n",
    "        return x    "
   ]
  },
  {
   "cell_type": "code",
   "execution_count": 3,
   "metadata": {},
   "outputs": [],
   "source": [
    "acc = []\n",
    "for m in [1]:\n",
    "\n",
    "    data_cxy = np.loadtxt(\"nl_signal_yrand2.dat\").astype(np.float32)\n",
    "    label_cxy = np.loadtxt(\"nl_lbs_yrand2.dat\").astype(np.float32)\n",
    "    data_cxy = torch.from_numpy(data_cxy)\n",
    "    label_cxy = torch.from_numpy(label_cxy)\n",
    "\n",
    "    input_dim = len(data_cxy[0])\n",
    "    output_dim = 2\n",
    "    learning_rate=0.001\n",
    "    H=10\n",
    "\n",
    "    model = Net_relu(input_dim,H,output_dim)\n",
    "    optimizer = torch.optim.SGD(model.parameters(),lr = learning_rate, momentum=0.2)\n",
    "    criterion = nn.CrossEntropyLoss()\n",
    "\n",
    "    my_data_train = []\n",
    "    my_data_val = []\n",
    "    for i in range(len(data_cxy)):\n",
    "        if i < len(data_cxy)*0.75:\n",
    "            my_data_train.append([data_cxy[i], label_cxy[i].type(torch.LongTensor)])\n",
    "        else:    \n",
    "            my_data_val.append([data_cxy[i], label_cxy[i].type(torch.LongTensor)])\n",
    "\n",
    "    train_set = torch.utils.data.DataLoader(dataset=my_data_train,shuffle=True,batch_size=250)\n",
    "    val_set = torch.utils.data.DataLoader(dataset=my_data_val,shuffle=True,batch_size=250)\n",
    "\n",
    "    loss_list = []\n",
    "    accuracy_list = []\n",
    "    N_test = len(my_data_val)\n",
    "    epochs = 2000\n",
    "\n",
    "    def train_model(n_epochs):\n",
    "        for epoch in range(n_epochs):\n",
    "            for x,y in train_set:\n",
    "                optimizer.zero_grad()\n",
    "                z = model(x)\n",
    "                loss = criterion(z,y)\n",
    "                loss.backward()\n",
    "                optimizer.step()\n",
    "            correct = 0\n",
    "            for x_test, y_test in val_set:\n",
    "                z = model(x_test)\n",
    "                _, yhat = torch.max(z.data,1)\n",
    "                correct += (yhat == y_test).sum().item()\n",
    "            accuracy = correct / N_test\n",
    "            loss_list.append(loss.data)\n",
    "            accuracy_list.append(accuracy)\n",
    "    train_model(epochs)\n",
    "\n",
    "    acc.append(accuracy_list[-1])"
   ]
  },
  {
   "cell_type": "code",
   "execution_count": 4,
   "metadata": {},
   "outputs": [
    {
     "data": {
      "text/plain": [
       "[<matplotlib.lines.Line2D at 0x7fa6756fa0a0>]"
      ]
     },
     "execution_count": 4,
     "metadata": {},
     "output_type": "execute_result"
    },
    {
     "data": {
      "image/png": "[encoded data removed]",
      "text/plain": [
       "<Figure size 432x288 with 1 Axes>"
      ]
     },
     "metadata": {
      "needs_background": "light"
     },
     "output_type": "display_data"
    }
   ],
   "source": [
    "plt.plot(acc,'o')"
   ]
  },
  {
   "cell_type": "code",
   "execution_count": 7,
   "metadata": {},
   "outputs": [
    {
     "data": {
      "text/plain": [
       "[0.732]"
      ]
     },
     "execution_count": 7,
     "metadata": {},
     "output_type": "execute_result"
    }
   ],
   "source": [
    "acc antigo"
   ]
  },
  {
   "cell_type": "code",
   "execution_count": 5,
   "metadata": {},
   "outputs": [
    {
     "data": {
      "text/plain": [
       "[0.748]"
      ]
     },
     "execution_count": 5,
     "metadata": {},
     "output_type": "execute_result"
    }
   ],
   "source": [
    "acc"
   ]
  },
  {
   "cell_type": "code",
   "execution_count": null,
   "metadata": {},
   "outputs": [],
   "source": []
  },
  {
   "cell_type": "code",
   "execution_count": null,
   "metadata": {},
   "outputs": [],
   "source": []
  },
  {
   "cell_type": "code",
   "execution_count": 6,
   "metadata": {},
   "outputs": [],
   "source": [
    "acc = []\n",
    "for m in [1]:\n",
    "\n",
    "    data_cxy = np.loadtxt(\"nfbl_vs_nfbl_signal_yrand2.dat\").astype(np.float32)\n",
    "    label_cxy = np.loadtxt(\"nfbl_vs_nfbl_lbs_yrand2.dat\").astype(np.float32)\n",
    "    data_cxy = torch.from_numpy(data_cxy)\n",
    "    label_cxy = torch.from_numpy(label_cxy)\n",
    "\n",
    "    input_dim = len(data_cxy[0])\n",
    "    output_dim = 2\n",
    "    learning_rate=0.001\n",
    "    H=10\n",
    "\n",
    "    model = Net_relu(input_dim,H,output_dim)\n",
    "    optimizer = torch.optim.SGD(model.parameters(),lr = learning_rate, momentum=0.2)\n",
    "    criterion = nn.CrossEntropyLoss()\n",
    "\n",
    "    my_data_train = []\n",
    "    my_data_val = []\n",
    "    for i in range(len(data_cxy)):\n",
    "        if i < len(data_cxy)*0.75:\n",
    "            my_data_train.append([data_cxy[i], label_cxy[i].type(torch.LongTensor)])\n",
    "        else:    \n",
    "            my_data_val.append([data_cxy[i], label_cxy[i].type(torch.LongTensor)])\n",
    "\n",
    "    train_set = torch.utils.data.DataLoader(dataset=my_data_train,shuffle=True,batch_size=250)\n",
    "    val_set = torch.utils.data.DataLoader(dataset=my_data_val,shuffle=True,batch_size=250)\n",
    "\n",
    "    loss_list = []\n",
    "    accuracy_list = []\n",
    "    N_test = len(my_data_val)\n",
    "    epochs = 2000\n",
    "\n",
    "    def train_model(n_epochs):\n",
    "        for epoch in range(n_epochs):\n",
    "            for x,y in train_set:\n",
    "                optimizer.zero_grad()\n",
    "                z = model(x)\n",
    "                loss = criterion(z,y)\n",
    "                loss.backward()\n",
    "                optimizer.step()\n",
    "            correct = 0\n",
    "            for x_test, y_test in val_set:\n",
    "                z = model(x_test)\n",
    "                _, yhat = torch.max(z.data,1)\n",
    "                correct += (yhat == y_test).sum().item()\n",
    "            accuracy = correct / N_test\n",
    "            loss_list.append(loss.data)\n",
    "            accuracy_list.append(accuracy)\n",
    "    train_model(epochs)\n",
    "\n",
    "    acc.append(accuracy_list[-1])"
   ]
  },
  {
   "cell_type": "code",
   "execution_count": 7,
   "metadata": {},
   "outputs": [
    {
     "data": {
      "text/plain": [
       "[<matplotlib.lines.Line2D at 0x7fa679085910>]"
      ]
     },
     "execution_count": 7,
     "metadata": {},
     "output_type": "execute_result"
    },
    {
     "data": {
      "image/png": "[encoded data removed]",
      "text/plain": [
       "<Figure size 432x288 with 1 Axes>"
      ]
     },
     "metadata": {
      "needs_background": "light"
     },
     "output_type": "display_data"
    }
   ],
   "source": [
    "plt.plot(acc,'o')"
   ]
  },
  {
   "cell_type": "code",
   "execution_count": 10,
   "metadata": {},
   "outputs": [
    {
     "data": {
      "text/plain": [
       "[0.882]"
      ]
     },
     "execution_count": 10,
     "metadata": {},
     "output_type": "execute_result"
    }
   ],
   "source": [
    "acc antigo"
   ]
  },
  {
   "cell_type": "code",
   "execution_count": 8,
   "metadata": {},
   "outputs": [
    {
     "data": {
      "text/plain": [
       "[0.906]"
      ]
     },
     "execution_count": 8,
     "metadata": {},
     "output_type": "execute_result"
    }
   ],
   "source": [
    "acc"
   ]
  },
  {
   "cell_type": "code",
   "execution_count": null,
   "metadata": {},
   "outputs": [],
   "source": []
  },
  {
   "cell_type": "code",
   "execution_count": 11,
   "metadata": {},
   "outputs": [
    {
     "data": {
      "text/plain": [
       "0.882"
      ]
     },
     "execution_count": 11,
     "metadata": {},
     "output_type": "execute_result"
    }
   ],
   "source": [
    "np.mean(acc)"
   ]
  },
  {
   "cell_type": "code",
   "execution_count": 9,
   "metadata": {},
   "outputs": [],
   "source": [
    "acc = []\n",
    "for m in [1]:\n",
    "\n",
    "    data_cxy = np.loadtxt(\"iffl_vs_iffl_signal_yrand2.dat\").astype(np.float32)\n",
    "    label_cxy = np.loadtxt(\"iffl_vs_iffl_lbs_yrand2.dat\").astype(np.float32)\n",
    "    data_cxy = torch.from_numpy(data_cxy)\n",
    "    label_cxy = torch.from_numpy(label_cxy)\n",
    "\n",
    "    input_dim = len(data_cxy[0])\n",
    "    output_dim = 2\n",
    "    learning_rate=0.001\n",
    "    H=10\n",
    "\n",
    "    model = Net_relu(input_dim,H,output_dim)\n",
    "    optimizer = torch.optim.SGD(model.parameters(),lr = learning_rate, momentum=0.2)\n",
    "    criterion = nn.CrossEntropyLoss()\n",
    "\n",
    "    my_data_train = []\n",
    "    my_data_val = []\n",
    "    for i in range(len(data_cxy)):\n",
    "        if i < len(data_cxy)*0.75:\n",
    "            my_data_train.append([data_cxy[i], label_cxy[i].type(torch.LongTensor)])\n",
    "        else:    \n",
    "            my_data_val.append([data_cxy[i], label_cxy[i].type(torch.LongTensor)])\n",
    "\n",
    "    train_set = torch.utils.data.DataLoader(dataset=my_data_train,shuffle=True,batch_size=250)\n",
    "    val_set = torch.utils.data.DataLoader(dataset=my_data_val,shuffle=True,batch_size=250)\n",
    "\n",
    "    loss_list = []\n",
    "    accuracy_list = []\n",
    "    N_test = len(my_data_val)\n",
    "    epochs = 1000\n",
    "\n",
    "    def train_model(n_epochs):\n",
    "        for epoch in range(n_epochs):\n",
    "            for x,y in train_set:\n",
    "                optimizer.zero_grad()\n",
    "                z = model(x)\n",
    "                loss = criterion(z,y)\n",
    "                loss.backward()\n",
    "                optimizer.step()\n",
    "            correct = 0\n",
    "            for x_test, y_test in val_set:\n",
    "                z = model(x_test)\n",
    "                _, yhat = torch.max(z.data,1)\n",
    "                correct += (yhat == y_test).sum().item()\n",
    "            accuracy = correct / N_test\n",
    "            loss_list.append(loss.data)\n",
    "            accuracy_list.append(accuracy)\n",
    "    train_model(epochs)\n",
    "\n",
    "    acc.append(accuracy_list[-1])"
   ]
  },
  {
   "cell_type": "code",
   "execution_count": 10,
   "metadata": {},
   "outputs": [
    {
     "data": {
      "text/plain": [
       "[<matplotlib.lines.Line2D at 0x7fa67565acd0>]"
      ]
     },
     "execution_count": 10,
     "metadata": {},
     "output_type": "execute_result"
    },
    {
     "data": {
      "image/png": "[encoded data removed]",
      "text/plain": [
       "<Figure size 432x288 with 1 Axes>"
      ]
     },
     "metadata": {
      "needs_background": "light"
     },
     "output_type": "display_data"
    }
   ],
   "source": [
    "plt.plot(acc,'o')"
   ]
  },
  {
   "cell_type": "code",
   "execution_count": 28,
   "metadata": {},
   "outputs": [
    {
     "data": {
      "text/plain": [
       "[0.69]"
      ]
     },
     "execution_count": 28,
     "metadata": {},
     "output_type": "execute_result"
    }
   ],
   "source": [
    "acc antigo"
   ]
  },
  {
   "cell_type": "code",
   "execution_count": 11,
   "metadata": {},
   "outputs": [
    {
     "data": {
      "text/plain": [
       "[0.827]"
      ]
     },
     "execution_count": 11,
     "metadata": {},
     "output_type": "execute_result"
    }
   ],
   "source": [
    "acc"
   ]
  },
  {
   "cell_type": "code",
   "execution_count": 29,
   "metadata": {},
   "outputs": [
    {
     "data": {
      "text/plain": [
       "0.69"
      ]
     },
     "execution_count": 29,
     "metadata": {},
     "output_type": "execute_result"
    }
   ],
   "source": [
    "np.mean(acc)"
   ]
  },
  {
   "cell_type": "code",
   "execution_count": 25,
   "metadata": {},
   "outputs": [
    {
     "data": {
      "text/plain": [
       "tensor([[ 2.0842, 10.5700,  1.6217,  ...,  1.8514, 16.5800,  0.5295],\n",
       "        [ 2.0911,  6.9400,  1.6827,  ...,  1.8862, 15.6400,  0.1956],\n",
       "        [ 1.2777,  4.7900,  1.0934,  ...,  1.1838, 24.2800,  0.3637],\n",
       "        ...,\n",
       "        [ 1.3858,  3.9400,  1.0678,  ...,  1.2253, 11.1800,  0.2861],\n",
       "        [ 2.1047,  7.1600,  1.7254,  ...,  1.9243, 12.5600,  0.2502],\n",
       "        [ 2.1039, 10.2600,  1.6725,  ...,  1.8870, 15.5300,  0.1122]])"
      ]
     },
     "execution_count": 25,
     "metadata": {},
     "output_type": "execute_result"
    }
   ],
   "source": [
    "data_cxy"
   ]
  },
  {
   "cell_type": "raw",
   "metadata": {},
   "source": []
  }
 ],
 "metadata": {
  "colab": {
   "provenance": []
  },
  "kernelspec": {
   "display_name": "Python 3 (ipykernel)",
   "language": "python",
   "name": "python3"
  },
  "language_info": {
   "codemirror_mode": {
    "name": "ipython",
    "version": 3
   },
   "file_extension": ".py",
   "mimetype": "text/x-python",
   "name": "python",
   "nbconvert_exporter": "python",
   "pygments_lexer": "ipython3",
   "version": "3.9.12"
  }
 },
 "nbformat": 4,
 "nbformat_minor": 1
}
